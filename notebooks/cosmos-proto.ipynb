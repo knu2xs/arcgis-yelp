{
 "cells": [
  {
   "cell_type": "code",
   "execution_count": 4,
   "id": "be4e73aa-d0a7-4aad-9d10-9777550be083",
   "metadata": {},
   "outputs": [
    {
     "data": {
      "text/plain": [
       "True"
      ]
     },
     "execution_count": 4,
     "metadata": {},
     "output_type": "execute_result"
    }
   ],
   "source": [
    "from dotenv import find_dotenv, load_dotenv\n",
    "\n",
    "load_dotenv(find_dotenv())"
   ]
  },
  {
   "cell_type": "code",
   "execution_count": 12,
   "id": "dffda568-1e82-4243-bd5c-36a13e2fdb60",
   "metadata": {},
   "outputs": [],
   "source": [
    "import os\n",
    "\n",
    "from azure.cosmos import CosmosClient"
   ]
  },
  {
   "cell_type": "code",
   "execution_count": 19,
   "id": "87c68769-23c5-4f3c-898d-a11d11a1de00",
   "metadata": {},
   "outputs": [
    {
     "data": {
      "text/plain": [
       "<ContainerProxy [dbs/Yelp/colls/Items]>"
      ]
     },
     "execution_count": 19,
     "metadata": {},
     "output_type": "execute_result"
    }
   ],
   "source": [
    "cosmos_url = os.getenv('COSMOS_URL')\n",
    "cosmos_key = os.getenv('COSMOS_KEY')\n",
    "cosmos_db = os.getenv('COSMOS_DB')\n",
    "cosmos_container = os.getenv('COSMOS_CONTAINER')\n",
    "\n",
    "client = CosmosClient(url=cosmos_url, credential=cosmos_key)\n",
    "db = client.get_database_client('Yelp')\n",
    "container = db.get_container_client('Items')\n",
    "\n",
    "container"
   ]
  },
  {
   "cell_type": "code",
   "execution_count": 20,
   "id": "05116b28-482f-4e93-964d-afb9c7465dac",
   "metadata": {},
   "outputs": [],
   "source": [
    "yelp_item = {\n",
    "    'id': 'oN0jxgY7aBj_tYLgTIKcNw',\n",
    "    'name': 'Uptown Grill',\n",
    "    'image_url': 'https://s3-media3.fl.yelpcdn.com/bphoto/SRK7mc61iD5hzoqa3GsjJg/o.jpg',\n",
    "    'url': 'https://www.yelp.com/biz/uptown-grill-olympia?adjust_creative=ZAyA5LhP0CVLQ3sJwFX2SA&utm_campaign=yelp_api_v3&utm_medium=api_v3_business_search&utm_source=ZAyA5LhP0CVLQ3sJwFX2SA',\n",
    "    'review_count': 344,\n",
    "    'categories': 'American, Burgers, Cocktail Bars',\n",
    "    'rating': 4.5,\n",
    "    'price': '$$',\n",
    "    'h3_07': '8728d5910ffffff',\n",
    "    'h3_08': '8828d59103fffff',\n",
    "    'h3_09': '8928d591037ffff',\n",
    "    'h3_10': '8a28d591034ffff',\n",
    "    'h3_11': '8b28d5910348fff',\n",
    "    'geometry': {'type': 'Point', 'coordinates': [-122.901333, 47.043801]},\n",
    "    'address': '514 Capitol Way S, Olympia, WA 98501'\n",
    "}"
   ]
  },
  {
   "cell_type": "code",
   "execution_count": 21,
   "id": "7d65a510-c6bb-483c-b4de-796e0d3df394",
   "metadata": {},
   "outputs": [
    {
     "data": {
      "text/plain": [
       "{'id': 'oN0jxgY7aBj_tYLgTIKcNw',\n",
       " 'name': 'Uptown Grill',\n",
       " 'image_url': 'https://s3-media3.fl.yelpcdn.com/bphoto/SRK7mc61iD5hzoqa3GsjJg/o.jpg',\n",
       " 'url': 'https://www.yelp.com/biz/uptown-grill-olympia?adjust_creative=ZAyA5LhP0CVLQ3sJwFX2SA&utm_campaign=yelp_api_v3&utm_medium=api_v3_business_search&utm_source=ZAyA5LhP0CVLQ3sJwFX2SA',\n",
       " 'review_count': 344,\n",
       " 'categories': 'American, Burgers, Cocktail Bars',\n",
       " 'rating': 4.5,\n",
       " 'price': '$$',\n",
       " 'h3_07': '8728d5910ffffff',\n",
       " 'h3_08': '8828d59103fffff',\n",
       " 'h3_09': '8928d591037ffff',\n",
       " 'h3_10': '8a28d591034ffff',\n",
       " 'h3_11': '8b28d5910348fff',\n",
       " 'geometry': {'type': 'Point', 'coordinates': [-122.901333, 47.043801]},\n",
       " 'address': '514 Capitol Way S, Olympia, WA 98501',\n",
       " '_rid': 'l1clAJGNYXYBAAAAAAAAAA==',\n",
       " '_self': 'dbs/l1clAA==/colls/l1clAJGNYXY=/docs/l1clAJGNYXYBAAAAAAAAAA==/',\n",
       " '_etag': '\"ba03bd2f-0000-0700-0000-65948c370000\"',\n",
       " '_attachments': 'attachments/',\n",
       " '_ts': 1704234039}"
      ]
     },
     "execution_count": 21,
     "metadata": {},
     "output_type": "execute_result"
    }
   ],
   "source": [
    "container.create_item(yelp_item)"
   ]
  },
  {
   "cell_type": "code",
   "execution_count": 24,
   "id": "9bc0678f-ab2a-475c-b4cd-8a756c633d00",
   "metadata": {},
   "outputs": [],
   "source": [
    "container.delete_item(item='oN0jxgY7aBj_tYLgTIKcNw', partition_key='oN0jxgY7aBj_tYLgTIKcNw')"
   ]
  },
  {
   "cell_type": "code",
   "execution_count": null,
   "id": "4e4adcc9-a158-4279-9d7b-ff4bf7d614d7",
   "metadata": {},
   "outputs": [],
   "source": []
  }
 ],
 "metadata": {
  "kernelspec": {
   "display_name": "Python 3 (ipykernel)",
   "language": "python",
   "name": "python3"
  },
  "language_info": {
   "codemirror_mode": {
    "name": "ipython",
    "version": 3
   },
   "file_extension": ".py",
   "mimetype": "text/x-python",
   "name": "python",
   "nbconvert_exporter": "python",
   "pygments_lexer": "ipython3",
   "version": "3.11.5"
  }
 },
 "nbformat": 4,
 "nbformat_minor": 5
}
