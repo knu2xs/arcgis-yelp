{
 "cells": [
  {
   "cell_type": "code",
   "execution_count": 1,
   "id": "9c4a17d4-00c3-4a95-b285-b96c231d853f",
   "metadata": {},
   "outputs": [
    {
     "data": {
      "text/plain": [
       "True"
      ]
     },
     "execution_count": 1,
     "metadata": {},
     "output_type": "execute_result"
    }
   ],
   "source": [
    "from dotenv import find_dotenv, load_dotenv\n",
    "\n",
    "load_dotenv(find_dotenv())"
   ]
  },
  {
   "cell_type": "code",
   "execution_count": 72,
   "id": "c8bde740-0650-4bb0-ba8e-e315821084e5",
   "metadata": {},
   "outputs": [],
   "source": [
    "from datetime import datetime\n",
    "import json\n",
    "import os\n",
    "from typing import List, Optional\n",
    "\n",
    "from azure.cosmos import CosmosClient\n",
    "import h3\n",
    "import pandas as pd\n",
    "from requests import Session, HTTPError"
   ]
  },
  {
   "cell_type": "code",
   "execution_count": 28,
   "id": "07ab4bb9-1b5e-426e-9c17-5c6dc77656cc",
   "metadata": {},
   "outputs": [],
   "source": [
    "yelp_client_id = os.getenv('YELP_CLIENT_ID')\n",
    "yelp_api_key = os.getenv('YELP_API_KEY')\n",
    "\n",
    "yelp_api_root = 'https://api.yelp.com/v3'\n",
    "yelp_search_url = yelp_api_root + '/businesses/search'\n",
    "yelp_details_url = yelp_api_root + '/businesses/'\n",
    "h3_res = 9\n",
    "\n",
    "loc_x, loc_y = -122.91479355798339, 47.042924037902935  # house in Olympia\n",
    "# loc_x, loc_y = -105.4468809729821, 20.488120802895565  # where we stayed in Yelapa\n",
    "search_radius = 1600"
   ]
  },
  {
   "cell_type": "code",
   "execution_count": 4,
   "id": "40229e5d-df4f-4732-bde5-231689daa537",
   "metadata": {},
   "outputs": [],
   "source": [
    "def add_h3_index(yelp_item: List[dict], h3_resolution: int = 9) -> List[dict]:\n",
    "    \n",
    "    # get the h3 index\n",
    "    h3_idx = h3.latlng_to_cell(yelp_item.get('coordinates').get('latitude'), yelp_item.get('coordinates').get('longitude'), h3_resolution)\n",
    "    \n",
    "    # add the h3 index\n",
    "    yelp_item[f'h3_{h3_resolution:02d}'] = h3_idx\n",
    "    \n",
    "    return yelp_item\n",
    "\n",
    "\n",
    "def add_geometry(yelp_item: List[dict], format: str = 'esri') -> List[dict]:\n",
    "    \n",
    "    # get the coordinates\n",
    "    coord_x = yelp_item.get('coordinates').get('longitude')\n",
    "    coord_y = yelp_item.get('coordinates').get('latitude')\n",
    "    \n",
    "    # if esri, create ArcGIS Point geometry\n",
    "    if format == 'arcgis':\n",
    "        \n",
    "        pt = Point({'x': coord_x, 'y': coord_y, 'spatialReference' : {'wkid' : 4326}})\n",
    "    \n",
    "    # if geojson, do that\n",
    "    elif format == 'geojson':\n",
    "        \n",
    "        pt = {\n",
    "          \"type\": \"Point\",\n",
    "          \"coordinates\": [coord_x, coord_y]\n",
    "        }\n",
    "\n",
    "    # add to the Yelp item\n",
    "    yelp_item['geometry'] = pt\n",
    "    \n",
    "    return yelp_item\n",
    "\n",
    "\n",
    "def prune_yelp_item(yelp_item: dict, keep_keys: Optional[List[str]] = None) -> dict:\n",
    "\n",
    "    # prune the dictionary if desired\n",
    "    if keep_keys is None:\n",
    "        keep_keys = ['id', 'name', 'image_url', 'url', 'review_count', 'categories', 'rating', 'price', 'address']\n",
    "        \n",
    "\n",
    "    # ensure geometry and h3 keys are retained\n",
    "    keep_keys = [k for k in yelp_lst[0].keys() if k in keep_keys or k.startswith('h3_') or k == 'geometry']\n",
    "    \n",
    "    # prune the dictionary\n",
    "    yelp_item = dict((k, yelp_item.get(k)) for k in keep_keys)\n",
    "\n",
    "    return yelp_item"
   ]
  },
  {
   "cell_type": "code",
   "execution_count": 5,
   "id": "574dcb19-4d29-4f4b-bf94-c486a7dc2d60",
   "metadata": {},
   "outputs": [],
   "source": [
    "headers = {\n",
    "    'accept': 'application/json',\n",
    "    'Authorization': f'Bearer {yelp_api_key}'\n",
    "}"
   ]
  },
  {
   "cell_type": "code",
   "execution_count": 6,
   "id": "3fb92d0f-b88e-49cb-94e4-fa18cfd34875",
   "metadata": {},
   "outputs": [],
   "source": [
    "yelp = Session()\n",
    "yelp.headers = headers"
   ]
  },
  {
   "cell_type": "code",
   "execution_count": 59,
   "id": "799eb6c8-c8f9-4dd1-8c2b-3961d1206f9f",
   "metadata": {},
   "outputs": [],
   "source": [
    "params = {\n",
    "    'limit': 50,\n",
    "    'sort_by': 'distance',\n",
    "    'radius': search_radius,  # straight-line distance in meters\n",
    "    'longitude': loc_x,\n",
    "    'latitude': loc_y,\n",
    "    'term': 'food, bar'\n",
    "}"
   ]
  },
  {
   "cell_type": "code",
   "execution_count": 70,
   "id": "082e1eba-1a76-4d8f-91dc-2a256b300d09",
   "metadata": {},
   "outputs": [
    {
     "data": {
      "text/plain": [
       "50"
      ]
     },
     "execution_count": 70,
     "metadata": {},
     "output_type": "execute_result"
    }
   ],
   "source": [
    "res = yelp.get(yelp_business_search_url, params=params)\n",
    "\n",
    "if res.status_code == 200:\n",
    "    \n",
    "    # get the list of businesses from the response\n",
    "    yelp_lst = res.json().get('businesses')\n",
    "    \n",
    "    # add the level h3 level 7 through 11 indices\n",
    "    for h3_lvl in range(7, 12):\n",
    "        yelp_lst = [add_h3_index(yelp_itm, h3_lvl) for yelp_itm in yelp_lst]\n",
    "        \n",
    "    # add ArcGIS Python API point geometry\n",
    "    yelp_lst = [add_geometry(yelp_itm, format=\"geojson\") for yelp_itm in yelp_lst]\n",
    "    \n",
    "    # get a string formatted address for display\n",
    "    for yelp_item in yelp_lst:\n",
    "        loc = yelp_item.get('location')\n",
    "        if loc is not None:\n",
    "            yelp_item['address'] = ', '.join(loc.get('display_address'))\n",
    "    \n",
    "    # add retrieval timestamp\n",
    "    dt_now = datetime.now().isoformat()\n",
    "    for itm in yelp_lst:\n",
    "        itm['retrieval_timestamp'] = dt_now\n",
    "\n",
    "len(yelp_lst)"
   ]
  },
  {
   "cell_type": "code",
   "execution_count": 71,
   "id": "b6f33ed8-7671-482e-9382-660d35453a11",
   "metadata": {},
   "outputs": [
    {
     "data": {
      "text/plain": [
       "{'id': 'ZBp5SiXpapzCKm-GLsbirw',\n",
       " 'alias': 'swing-wine-bar-and-cafe-olympia',\n",
       " 'name': 'Swing Wine Bar & Cafe',\n",
       " 'image_url': 'https://s3-media2.fl.yelpcdn.com/bphoto/Y-VXRm6MaNUULqHaN1RzvQ/o.jpg',\n",
       " 'is_closed': False,\n",
       " 'url': 'https://www.yelp.com/biz/swing-wine-bar-and-cafe-olympia?adjust_creative=ZAyA5LhP0CVLQ3sJwFX2SA&utm_campaign=yelp_api_v3&utm_medium=api_v3_business_search&utm_source=ZAyA5LhP0CVLQ3sJwFX2SA',\n",
       " 'review_count': 268,\n",
       " 'categories': [{'alias': 'newamerican', 'title': 'New American'},\n",
       "  {'alias': 'cocktailbars', 'title': 'Cocktail Bars'},\n",
       "  {'alias': 'wine_bars', 'title': 'Wine Bars'}],\n",
       " 'rating': 4.0,\n",
       " 'coordinates': {'latitude': 47.04068, 'longitude': -122.902667},\n",
       " 'transactions': ['delivery'],\n",
       " 'price': '$$',\n",
       " 'location': {'address1': '825 Columbia St SW',\n",
       "  'address2': '',\n",
       "  'address3': '',\n",
       "  'city': 'Olympia',\n",
       "  'zip_code': '98501',\n",
       "  'country': 'US',\n",
       "  'state': 'WA',\n",
       "  'display_address': ['825 Columbia St SW', 'Olympia, WA 98501']},\n",
       " 'phone': '+13603579464',\n",
       " 'display_phone': '(360) 357-9464',\n",
       " 'distance': 952.170559270448,\n",
       " 'h3_07': '8728d5910ffffff',\n",
       " 'h3_08': '8828d5911dfffff',\n",
       " 'h3_09': '8928d5911dbffff',\n",
       " 'h3_10': '8a28d5911db7fff',\n",
       " 'h3_11': '8b28d5911db0fff',\n",
       " 'geometry': {'type': 'Point', 'coordinates': [-122.902667, 47.04068]},\n",
       " 'address': '825 Columbia St SW, Olympia, WA 98501',\n",
       " 'retrieval_timestamp': '2024-01-03T11:25:43.021229'}"
      ]
     },
     "execution_count": 71,
     "metadata": {},
     "output_type": "execute_result"
    }
   ],
   "source": [
    "yelp_item = yelp_lst[6]\n",
    "\n",
    "yelp_item"
   ]
  },
  {
   "cell_type": "code",
   "execution_count": 62,
   "id": "f0a8e055-1fcf-4874-8d0a-bd182c334e3b",
   "metadata": {},
   "outputs": [],
   "source": [
    "biz_res = yelp.get(yelp_details_url + yelp_item.get('id'))"
   ]
  },
  {
   "cell_type": "code",
   "execution_count": 63,
   "id": "262f31b7-5e62-413f-b1ea-b3fd568ac26c",
   "metadata": {},
   "outputs": [
    {
     "data": {
      "text/plain": [
       "'https://api.yelp.com/v3/businesses/ZBp5SiXpapzCKm-GLsbirw'"
      ]
     },
     "execution_count": 63,
     "metadata": {},
     "output_type": "execute_result"
    }
   ],
   "source": [
    "biz_res.url"
   ]
  },
  {
   "cell_type": "code",
   "execution_count": 69,
   "id": "b14e7e99-ae91-4f83-8ac3-2ac5119b07f3",
   "metadata": {
    "collapsed": true,
    "jupyter": {
     "outputs_hidden": true
    },
    "tags": []
   },
   "outputs": [
    {
     "data": {
      "text/plain": [
       "{'id': 'ZBp5SiXpapzCKm-GLsbirw',\n",
       " 'alias': 'swing-wine-bar-and-cafe-olympia',\n",
       " 'name': 'Swing Wine Bar & Cafe',\n",
       " 'image_url': 'https://s3-media2.fl.yelpcdn.com/bphoto/Y-VXRm6MaNUULqHaN1RzvQ/o.jpg',\n",
       " 'is_claimed': True,\n",
       " 'is_closed': False,\n",
       " 'url': 'https://www.yelp.com/biz/swing-wine-bar-and-cafe-olympia?adjust_creative=ZAyA5LhP0CVLQ3sJwFX2SA&utm_campaign=yelp_api_v3&utm_medium=api_v3_business_lookup&utm_source=ZAyA5LhP0CVLQ3sJwFX2SA',\n",
       " 'phone': '+13603579464',\n",
       " 'display_phone': '(360) 357-9464',\n",
       " 'review_count': 268,\n",
       " 'categories': [{'alias': 'newamerican', 'title': 'New American'},\n",
       "  {'alias': 'cocktailbars', 'title': 'Cocktail Bars'},\n",
       "  {'alias': 'wine_bars', 'title': 'Wine Bars'}],\n",
       " 'rating': 4.0,\n",
       " 'location': {'address1': '825 Columbia St SW',\n",
       "  'address2': '',\n",
       "  'address3': '',\n",
       "  'city': 'Olympia',\n",
       "  'zip_code': '98501',\n",
       "  'country': 'US',\n",
       "  'state': 'WA',\n",
       "  'display_address': ['825 Columbia St SW', 'Olympia, WA 98501'],\n",
       "  'cross_streets': ''},\n",
       " 'coordinates': {'latitude': 47.04068, 'longitude': -122.902667},\n",
       " 'photos': ['https://s3-media2.fl.yelpcdn.com/bphoto/Y-VXRm6MaNUULqHaN1RzvQ/o.jpg',\n",
       "  'https://s3-media3.fl.yelpcdn.com/bphoto/XaOmuV4vHXFVmwaSex1zcw/o.jpg',\n",
       "  'https://s3-media1.fl.yelpcdn.com/bphoto/U4k50y1ISszxTIl9RuNuhw/o.jpg'],\n",
       " 'price': '$$',\n",
       " 'hours': [{'open': [{'is_overnight': False,\n",
       "     'start': '1600',\n",
       "     'end': '2100',\n",
       "     'day': 1},\n",
       "    {'is_overnight': False, 'start': '1600', 'end': '2100', 'day': 2},\n",
       "    {'is_overnight': False, 'start': '1600', 'end': '2100', 'day': 3},\n",
       "    {'is_overnight': False, 'start': '1500', 'end': '2200', 'day': 4},\n",
       "    {'is_overnight': False, 'start': '1500', 'end': '2200', 'day': 5}],\n",
       "   'hours_type': 'REGULAR',\n",
       "   'is_open_now': False}],\n",
       " 'transactions': ['delivery']}"
      ]
     },
     "execution_count": 69,
     "metadata": {},
     "output_type": "execute_result"
    }
   ],
   "source": [
    "biz_res.json()"
   ]
  },
  {
   "cell_type": "code",
   "execution_count": 64,
   "id": "e17c59cf-aa16-49b9-ab63-625d1374556b",
   "metadata": {},
   "outputs": [
    {
     "data": {
      "text/plain": [
       "<ContainerProxy [dbs/Yelp/colls/Items]>"
      ]
     },
     "execution_count": 64,
     "metadata": {},
     "output_type": "execute_result"
    }
   ],
   "source": [
    "cosmos_url = os.getenv('COSMOS_URL')\n",
    "cosmos_key = os.getenv('COSMOS_KEY')\n",
    "cosmos_db = os.getenv('COSMOS_DB')\n",
    "cosmos_container = os.getenv('COSMOS_CONTAINER')\n",
    "\n",
    "client = CosmosClient(url=cosmos_url, credential=cosmos_key)\n",
    "db = client.get_database_client('Yelp')\n",
    "container = db.get_container_client('Items')\n",
    "\n",
    "container"
   ]
  },
  {
   "cell_type": "code",
   "execution_count": 65,
   "id": "9b7bcb87-6119-40be-9cfd-b2ff64506669",
   "metadata": {},
   "outputs": [],
   "source": [
    "for itm in container.query_items('SELECT c.id FROM c', enable_cross_partition_query=True):\n",
    "    itm_id = itm['id']\n",
    "    container.delete_item(itm_id, itm_id)"
   ]
  },
  {
   "cell_type": "code",
   "execution_count": 66,
   "id": "0969501a-5cc0-4805-908a-44aa4b499c56",
   "metadata": {},
   "outputs": [],
   "source": [
    "for yelp_itm in yelp_lst:\n",
    "    container.create_item(yelp_itm)"
   ]
  },
  {
   "cell_type": "code",
   "execution_count": null,
   "id": "cd674e39-dec8-465c-a0ef-ed6f410def87",
   "metadata": {},
   "outputs": [],
   "source": []
  }
 ],
 "metadata": {
  "kernelspec": {
   "display_name": "Python 3 (ipykernel)",
   "language": "python",
   "name": "python3"
  },
  "language_info": {
   "codemirror_mode": {
    "name": "ipython",
    "version": 3
   },
   "file_extension": ".py",
   "mimetype": "text/x-python",
   "name": "python",
   "nbconvert_exporter": "python",
   "pygments_lexer": "ipython3",
   "version": "3.11.5"
  }
 },
 "nbformat": 4,
 "nbformat_minor": 5
}
